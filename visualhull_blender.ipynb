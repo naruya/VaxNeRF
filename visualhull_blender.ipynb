{
 "cells": [
  {
   "cell_type": "code",
   "execution_count": null,
   "id": "98fd431c-c76f-442d-b41a-4d6ee8137240",
   "metadata": {
    "tags": []
   },
   "outputs": [],
   "source": [
    "from nerf import utils\n",
    "from jax import device_put\n",
    "import jax.numpy as jnp\n",
    "import os\n",
    "import cv2\n",
    "import numpy as np\n",
    "import matplotlib.pyplot as plt\n",
    "from tqdm import tqdm\n",
    "from visualhull_blender import *\n",
    "\n",
    "\n",
    "FLAGS.config = \"configs/blender\"\n",
    "FLAGS.data_dir = \"data/nerf_synthetic/hotdog\"\n",
    "FLAGS.vh_test = True\n",
    "\n",
    "FLAGS.alpha_bkgd = True\n",
    "FLAGS.num_rgb_channels = 4\n",
    "if FLAGS.config is not None:\n",
    "    utils.update_flags(FLAGS)\n",
    "\n",
    "vsize = FLAGS.vsize"
   ]
  },
  {
   "cell_type": "code",
   "execution_count": null,
   "id": "68e3a757-1191-4a19-8fdf-7e913c1a8c1f",
   "metadata": {},
   "outputs": [],
   "source": [
    "target = FLAGS.data_dir.split(\"/\")[-1]\n",
    "\n",
    "# dataset = PureDataset(\"train\", FLAGS)\n",
    "# if FLAGS.dataset == \"blender\":\n",
    "#     dataset.images = dataset.images.reshape(-1,800,800,4)\n",
    "#     dataset.rays = dataset.rays._replace(origins = dataset.rays.origins.reshape(-1,800,800,3))\n",
    "#     dataset.rays = dataset.rays._replace(directions = dataset.rays.directions.reshape(-1,800,800,3))\n",
    "#     dataset.rays = dataset.rays._replace(viewdirs = dataset.rays.viewdirs.reshape(-1,800,800,3))\n",
    "# elif FLAGS.dataset == \"llff\":\n",
    "#     dataset.images = dataset.images.reshape(-1,756,1008,3)\n",
    "#     dataset.rays = dataset.rays._replace(origins = dataset.rays.origins.reshape(-1,756,1008,3))\n",
    "#     dataset.rays = dataset.rays._replace(directions = dataset.rays.directions.reshape(-1,756,1008,3))\n",
    "#     dataset.rays = dataset.rays._replace(viewdirs = dataset.rays.viewdirs.reshape(-1,756,1008,3))\n",
    "\n",
    "dataset = PureDataset(\"train\", FLAGS)\n",
    "dataset.images = dataset.images.reshape(-1,800,800,FLAGS.num_rgb_channels)\n",
    "dataset.rays = dataset.rays._replace(\n",
    "  origins=dataset.rays.origins.reshape(-1,800,800,3))\n",
    "dataset.rays = dataset.rays._replace(\n",
    "  directions=dataset.rays.directions.reshape(-1,800,800,3))\n",
    "dataset.rays = dataset.rays._replace(\n",
    "  viewdirs=dataset.rays.viewdirs.reshape(-1,800,800,3))\n",
    "\n",
    "if FLAGS.vh_test:\n",
    "    test_dataset = PureDataset(\"test\", FLAGS)\n",
    "    test_dataset.images = test_dataset.images.reshape(-1,800,800,FLAGS.num_rgb_channels)\n",
    "    test_dataset.rays = test_dataset.rays._replace(\n",
    "      origins=test_dataset.rays.origins.reshape(-1,800,800,3))\n",
    "    test_dataset.rays = test_dataset.rays._replace(\n",
    "      directions=test_dataset.rays.directions.reshape(-1,800,800,3))\n",
    "    test_dataset.rays = test_dataset.rays._replace(\n",
    "      viewdirs=test_dataset.rays.viewdirs.reshape(-1,800,800,3))"
   ]
  },
  {
   "cell_type": "code",
   "execution_count": null,
   "id": "ce5b7e7b-c125-497b-a890-eac0c5c37953",
   "metadata": {},
   "outputs": [],
   "source": [
    "# fig = plt.figure(figsize=(8, 8))\n",
    "# ax = fig.add_subplot(111, projection='3d')\n",
    "# ax.set_xlim(-5, 5)\n",
    "# ax.set_ylim(-5, 5)\n",
    "# ax.set_zlim(-5, 5)\n",
    "# ax.view_init(elev=90, azim=90)\n",
    "# # ax.view_init(elev=0, azim=0)\n",
    "# ax.set_xlabel('x')\n",
    "# ax.set_ylabel('y')\n",
    "# ax.set_zlabel('z')\n",
    "\n",
    "# for idx in range(0, len(dataset.rays.origins), 2):\n",
    "#     o = dataset.rays.origins[idx]\n",
    "#     d = dataset.rays.directions[idx]\n",
    "\n",
    "#     # render lower limit（blue）\n",
    "#     x_n, y_n, z_n = (o + d * t_n)[::16, ::16].reshape(-1, 3).T\n",
    "#     ax.scatter(x_n, y_n, z_n, c='blue', s=0.1)\n",
    "\n",
    "#     # render upper limit (green)\n",
    "#     x_f, y_f, z_f = (o + d * t_f)[::16, ::16].reshape(-1, 3).T\n",
    "#     ax.scatter(x_f, y_f, z_f, c='green', s=0.1)"
   ]
  },
  {
   "cell_type": "code",
   "execution_count": null,
   "id": "bda58ac6-0df4-401b-a02a-f1bd5b8ed052",
   "metadata": {},
   "outputs": [],
   "source": [
    "visualhull(dataset, test_dataset, target, dilation=47, thresh=100)"
   ]
  },
  {
   "cell_type": "code",
   "execution_count": null,
   "id": "88ec7014-e16d-4b29-bda3-064195fa3ea9",
   "metadata": {},
   "outputs": [],
   "source": []
  }
 ],
 "metadata": {
  "kernelspec": {
   "display_name": "Python 3",
   "language": "python",
   "name": "python3"
  },
  "language_info": {
   "codemirror_mode": {
    "name": "ipython",
    "version": 3
   },
   "file_extension": ".py",
   "mimetype": "text/x-python",
   "name": "python",
   "nbconvert_exporter": "python",
   "pygments_lexer": "ipython3",
   "version": "3.6.12"
  }
 },
 "nbformat": 4,
 "nbformat_minor": 5
}
